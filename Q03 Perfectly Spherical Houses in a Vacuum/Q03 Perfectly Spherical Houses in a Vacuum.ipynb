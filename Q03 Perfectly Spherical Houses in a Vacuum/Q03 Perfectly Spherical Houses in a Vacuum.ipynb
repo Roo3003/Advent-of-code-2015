{
 "cells": [
  {
   "cell_type": "code",
   "execution_count": 23,
   "metadata": {},
   "outputs": [],
   "source": [
    "# Import class files\n",
    "\n",
    "import sys\n",
    "import os\n",
    "parent_dir = os.path.abspath(os.path.join(os.getcwd(), os.pardir))\n",
    "sys.path.append(parent_dir)"
   ]
  },
  {
   "cell_type": "code",
   "execution_count": null,
   "metadata": {},
   "outputs": [],
   "source": [
    "example = open('example.txt', 'r').read()\n",
    "puzzle = open('puzzle.txt', 'r').read()\n",
    "\n",
    "moves = puzzle"
   ]
  },
  {
   "cell_type": "markdown",
   "metadata": {},
   "source": [
    "# Part 1"
   ]
  },
  {
   "cell_type": "code",
   "execution_count": 25,
   "metadata": {},
   "outputs": [
    {
     "data": {
      "text/plain": [
       "2"
      ]
     },
     "execution_count": 25,
     "metadata": {},
     "output_type": "execute_result"
    }
   ],
   "source": [
    "pos = 0\n",
    "seen = set({pos})\n",
    "for x in moves:\n",
    "    match x:\n",
    "        case '^': pos += 1\n",
    "        case 'v': pos -= 1\n",
    "        case '>': pos += 1j\n",
    "        case '<': pos -= 1j\n",
    "    if pos not in seen:\n",
    "        seen.add(pos)\n",
    "len(seen)"
   ]
  },
  {
   "cell_type": "markdown",
   "metadata": {},
   "source": [
    "# Part 2"
   ]
  },
  {
   "cell_type": "code",
   "execution_count": 26,
   "metadata": {},
   "outputs": [
    {
     "data": {
      "text/plain": [
       "11"
      ]
     },
     "execution_count": 26,
     "metadata": {},
     "output_type": "execute_result"
    }
   ],
   "source": [
    "santa_pos = 0\n",
    "robo_santa_pos = 0\n",
    "seen = set({0})\n",
    "pos, next_pos = santa_pos, robo_santa_pos\n",
    "for move in moves:\n",
    "    match move:\n",
    "        case '^': pos += 1\n",
    "        case 'v': pos -= 1\n",
    "        case '>': pos += 1j\n",
    "        case '<': pos -= 1j  \n",
    "    if pos not in seen:\n",
    "        seen.add(pos)\n",
    "    pos, next_pos = next_pos, pos\n",
    "len(seen)"
   ]
  }
 ],
 "metadata": {
  "kernelspec": {
   "display_name": "Python 3",
   "language": "python",
   "name": "python3"
  },
  "language_info": {
   "codemirror_mode": {
    "name": "ipython",
    "version": 3
   },
   "file_extension": ".py",
   "mimetype": "text/x-python",
   "name": "python",
   "nbconvert_exporter": "python",
   "pygments_lexer": "ipython3",
   "version": "3.13.3"
  }
 },
 "nbformat": 4,
 "nbformat_minor": 2
}
