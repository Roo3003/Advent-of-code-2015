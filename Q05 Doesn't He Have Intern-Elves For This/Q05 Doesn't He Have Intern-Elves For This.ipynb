{
 "cells": [
  {
   "cell_type": "code",
   "execution_count": 117,
   "metadata": {},
   "outputs": [],
   "source": [
    "# Import class files\n",
    "\n",
    "import sys\n",
    "import os\n",
    "parent_dir = os.path.abspath(os.path.join(os.getcwd(), os.pardir))\n",
    "sys.path.append(parent_dir)"
   ]
  },
  {
   "cell_type": "code",
   "execution_count": 118,
   "metadata": {},
   "outputs": [],
   "source": [
    "example = open('example.txt', 'r').read()\n",
    "puzzle = open('puzzle.txt', 'r').read()\n",
    "\n",
    "strings = puzzle.split('\\n')"
   ]
  },
  {
   "cell_type": "markdown",
   "metadata": {},
   "source": [
    "# Part 1"
   ]
  },
  {
   "cell_type": "code",
   "execution_count": 119,
   "metadata": {},
   "outputs": [
    {
     "data": {
      "text/plain": [
       "255"
      ]
     },
     "execution_count": 119,
     "metadata": {},
     "output_type": "execute_result"
    }
   ],
   "source": [
    "nice_strings_count = 0\n",
    "\n",
    "def nice_string(string):\n",
    "    vowel_count = 0\n",
    "    double_letter = False\n",
    "    for i in range(len(string)-1):\n",
    "        cur_s = string[i]\n",
    "        next_s = string[i+1]\n",
    "\n",
    "        if cur_s in 'aeiou':\n",
    "            vowel_count += 1\n",
    "\n",
    "        if cur_s == next_s:\n",
    "            double_letter = True\n",
    "        \n",
    "        if cur_s + next_s in ['ab','cd','pq','xy']:\n",
    "            return False\n",
    "        \n",
    "    if string[-1] in 'aeiou':\n",
    "        vowel_count += 1\n",
    "    \n",
    "    if vowel_count >= 3 and double_letter:\n",
    "        return True\n",
    "    \n",
    "    return False\n",
    "\n",
    "for s in strings:\n",
    "    nice_strings_count += nice_string(s)\n",
    "\n",
    "nice_strings_count"
   ]
  },
  {
   "cell_type": "markdown",
   "metadata": {},
   "source": [
    "# Part 2"
   ]
  },
  {
   "cell_type": "code",
   "execution_count": 121,
   "metadata": {},
   "outputs": [
    {
     "data": {
      "text/plain": [
       "55"
      ]
     },
     "execution_count": 121,
     "metadata": {},
     "output_type": "execute_result"
    }
   ],
   "source": [
    "nice_strings_count = 0\n",
    "\n",
    "def nice_string(string):\n",
    "    pair_locs = {}\n",
    "\n",
    "    def add_to_pair_locs(s,i):\n",
    "        if s in pair_locs:\n",
    "            pair_locs[s].add(i)\n",
    "        else:\n",
    "            pair_locs[s] = set([i])\n",
    "\n",
    "    pair_condition = False\n",
    "    one_letter_between_condition = False\n",
    "\n",
    "    if len(string) <= 2:\n",
    "        return False\n",
    "\n",
    "    for i in range(len(string)-2):\n",
    "        s1 = string[i]\n",
    "        s2 = string[i+1]\n",
    "        s3 = string[i+2]\n",
    "\n",
    "        add_to_pair_locs(s1+s2, i)\n",
    "\n",
    "        if i == len(string) - 3:\n",
    "            add_to_pair_locs(s2+s3, i+1)\n",
    "\n",
    "        if s1 == s3:\n",
    "            one_letter_between_condition = True\n",
    "    \n",
    "    pair_locs[s2+s3]\n",
    "\n",
    "    for p in pair_locs:\n",
    "        n_locs = len(pair_locs[p])\n",
    "        if n_locs >= 3:\n",
    "            pair_condition = True\n",
    "            break\n",
    "        elif n_locs == 2:\n",
    "            loc_1 = pair_locs[p].pop()\n",
    "            loc_2 = pair_locs[p].pop()\n",
    "            if abs(loc_1 - loc_2) != 1:\n",
    "                pair_condition = True\n",
    "                break\n",
    "\n",
    "    if pair_condition and one_letter_between_condition:\n",
    "        return True\n",
    "\n",
    "    return False\n",
    "\n",
    "\n",
    "\n",
    "for s in strings:\n",
    "    is_nice_string = nice_string(s)\n",
    "    nice_strings_count += is_nice_string\n",
    "\n",
    "nice_strings_count"
   ]
  }
 ],
 "metadata": {
  "kernelspec": {
   "display_name": "Python 3",
   "language": "python",
   "name": "python3"
  },
  "language_info": {
   "codemirror_mode": {
    "name": "ipython",
    "version": 3
   },
   "file_extension": ".py",
   "mimetype": "text/x-python",
   "name": "python",
   "nbconvert_exporter": "python",
   "pygments_lexer": "ipython3",
   "version": "3.13.3"
  }
 },
 "nbformat": 4,
 "nbformat_minor": 2
}
